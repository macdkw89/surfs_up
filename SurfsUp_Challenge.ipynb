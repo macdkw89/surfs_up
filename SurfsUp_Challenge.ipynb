{
 "cells": [
  {
   "cell_type": "code",
   "execution_count": 1,
   "metadata": {},
   "outputs": [],
   "source": [
    "# Dependencies\n",
    "import numpy as np\n",
    "import pandas as pd\n",
    "\n",
    "# Python SQL toolkit and Object Relational Mapper\n",
    "import sqlalchemy\n",
    "from sqlalchemy.ext.automap import automap_base\n",
    "from sqlalchemy.orm import Session\n",
    "from sqlalchemy import create_engine, func"
   ]
  },
  {
   "cell_type": "code",
   "execution_count": 2,
   "metadata": {},
   "outputs": [],
   "source": [
    "engine = create_engine(\"sqlite:///hawaii.sqlite\")\n",
    "\n",
    "# reflect an existing database into a new model\n",
    "Base = automap_base()\n",
    "# reflect the tables\n",
    "Base.prepare(engine, reflect=True)\n",
    "\n",
    "# Save references to each table\n",
    "Measurement = Base.classes.measurement\n",
    "Station = Base.classes.station"
   ]
  },
  {
   "cell_type": "code",
   "execution_count": 3,
   "metadata": {},
   "outputs": [],
   "source": [
    "# Create our session (link) from Python to the DB\n",
    "session = Session(engine)"
   ]
  },
  {
   "cell_type": "markdown",
   "metadata": {},
   "source": [
    "## D1: Determine the Summary Statistics for June"
   ]
  },
  {
   "cell_type": "code",
   "execution_count": 4,
   "metadata": {},
   "outputs": [
    {
     "name": "stdout",
     "output_type": "stream",
     "text": [
      "SELECT measurement.id AS measurement_id, measurement.station AS measurement_station, measurement.date AS measurement_date, measurement.prcp AS measurement_prcp, measurement.tobs AS measurement_tobs \n",
      "FROM measurement \n",
      "WHERE CAST(STRFTIME('%m', measurement.date) AS INTEGER) = ?\n"
     ]
    }
   ],
   "source": [
    "# 1. Import the sqlalchemy extract function.\n",
    "from sqlalchemy import extract\n",
    "\n",
    "# 2. Write a query that filters the Measurement table to retrieve the temperatures for the month of June. \n",
    "June_Temperature = session.query(Measurement).filter(extract('month', Measurement.date) == 6)\n",
    "print(June_Temperature)"
   ]
  },
  {
   "cell_type": "code",
   "execution_count": 5,
   "metadata": {},
   "outputs": [
    {
     "name": "stdout",
     "output_type": "stream",
     "text": [
      "[78.0, 76.0, 78.0, 76.0, 77.0, 78.0, 77.0, 78.0, 78.0, 79.0]\n"
     ]
    }
   ],
   "source": [
    "#  3. Convert the June temperatures to a list.\n",
    "June_Temperature_List = [i.tobs for i in June_Temperature]\n",
    "print(June_Temperature_List[0:10])\n"
   ]
  },
  {
   "cell_type": "code",
   "execution_count": 6,
   "metadata": {},
   "outputs": [
    {
     "name": "stdout",
     "output_type": "stream",
     "text": [
      "   June Temperature\n",
      "0              78.0\n",
      "1              76.0\n",
      "2              78.0\n",
      "3              76.0\n",
      "4              77.0\n"
     ]
    }
   ],
   "source": [
    "# 4. Create a DataFrame from the list of temperatures for the month of June. \n",
    "June_Temperature_df = pd.DataFrame(June_Temperature_List, columns=['June Temperature'])\n",
    "print(June_Temperature_df.head())\n",
    "\n"
   ]
  },
  {
   "cell_type": "code",
   "execution_count": 7,
   "metadata": {},
   "outputs": [
    {
     "name": "stdout",
     "output_type": "stream",
     "text": [
      "       June Temperature\n",
      "count       1700.000000\n",
      "mean          74.944118\n",
      "std            3.257417\n",
      "min           64.000000\n",
      "25%           73.000000\n",
      "50%           75.000000\n",
      "75%           77.000000\n",
      "max           85.000000\n"
     ]
    }
   ],
   "source": [
    "# 5. Calculate and print out the summary statistics for the June temperature DataFrame.\n",
    "print(June_Temperature_df.describe())\n"
   ]
  },
  {
   "cell_type": "markdown",
   "metadata": {},
   "source": [
    "## D2: Determine the Summary Statistics for December"
   ]
  },
  {
   "cell_type": "code",
   "execution_count": 8,
   "metadata": {},
   "outputs": [
    {
     "name": "stdout",
     "output_type": "stream",
     "text": [
      "SELECT measurement.id AS measurement_id, measurement.station AS measurement_station, measurement.date AS measurement_date, measurement.prcp AS measurement_prcp, measurement.tobs AS measurement_tobs \n",
      "FROM measurement \n",
      "WHERE CAST(STRFTIME('%m', measurement.date) AS INTEGER) = ?\n"
     ]
    }
   ],
   "source": [
    "# 6. Write a query that filters the Measurement table to retrieve the temperatures for the month of December.\n",
    "Dec_Temperature = session.query(Measurement).filter(extract('month', Measurement.date) == 12)\n",
    "print(Dec_Temperature)\n"
   ]
  },
  {
   "cell_type": "code",
   "execution_count": 9,
   "metadata": {},
   "outputs": [
    {
     "name": "stdout",
     "output_type": "stream",
     "text": [
      "[76.0, 74.0, 74.0, 64.0, 64.0, 67.0, 77.0, 66.0, 69.0, 68.0]\n"
     ]
    }
   ],
   "source": [
    "# 7. Convert the December temperatures to a list.\n",
    "Dec_Temperature_List = [i.tobs for i in Dec_Temperature]\n",
    "print(Dec_Temperature_List[0:10])\n"
   ]
  },
  {
   "cell_type": "code",
   "execution_count": 10,
   "metadata": {},
   "outputs": [
    {
     "name": "stdout",
     "output_type": "stream",
     "text": [
      "   December Temperature\n",
      "0                  76.0\n",
      "1                  74.0\n",
      "2                  74.0\n",
      "3                  64.0\n",
      "4                  64.0\n"
     ]
    }
   ],
   "source": [
    "# 8. Create a DataFrame from the list of temperatures for the month of December. \n",
    "Dec_Temperature_df = pd.DataFrame(Dec_Temperature_List, columns=['December Temperature'])\n",
    "print(Dec_Temperature_df.head())\n"
   ]
  },
  {
   "cell_type": "code",
   "execution_count": 11,
   "metadata": {},
   "outputs": [
    {
     "name": "stdout",
     "output_type": "stream",
     "text": [
      "       December Temperature\n",
      "count           1517.000000\n",
      "mean              71.041529\n",
      "std                3.745920\n",
      "min               56.000000\n",
      "25%               69.000000\n",
      "50%               71.000000\n",
      "75%               74.000000\n",
      "max               83.000000\n",
      "       June Temperature\n",
      "count       1700.000000\n",
      "mean          74.944118\n",
      "std            3.257417\n",
      "min           64.000000\n",
      "25%           73.000000\n",
      "50%           75.000000\n",
      "75%           77.000000\n",
      "max           85.000000\n"
     ]
    }
   ],
   "source": [
    "# 9. Calculate and print out the summary statistics for the Decemeber temperature DataFrame.\n",
    "print(Dec_Temperature_df.describe())\n",
    "print(June_Temperature_df.describe())\n"
   ]
  },
  {
   "cell_type": "code",
   "execution_count": 23,
   "metadata": {},
   "outputs": [
    {
     "name": "stdout",
     "output_type": "stream",
     "text": [
      "       December Precipitation\n",
      "count             1405.000000\n",
      "mean                 0.216819\n",
      "std                  0.541399\n",
      "min                  0.000000\n",
      "25%                  0.000000\n",
      "50%                  0.030000\n",
      "75%                  0.150000\n",
      "max                  6.420000\n",
      "       June Precipitation\n",
      "count         1574.000000\n",
      "mean             0.136360\n",
      "std              0.335731\n",
      "min              0.000000\n",
      "25%              0.000000\n",
      "50%              0.020000\n",
      "75%              0.120000\n",
      "max              4.430000\n"
     ]
    }
   ],
   "source": [
    "precipitation_in_june = session.query(Measurement.date, Measurement.prcp).filter(extract('month', Measurement.date) == 6).all()\n",
    "precipitation_in_june_list = [i.prcp for i in precipitation_in_june]\n",
    "precipitation_in_june_df = pd.DataFrame(precipitation_in_june_list, columns=['June Precipitation'])\n",
    "precipitation_in_december = session.query(Measurement.date, Measurement.prcp).filter(extract('month', Measurement.date) == 12).all()\n",
    "precipitation_in_december_list = [i.prcp for i in precipitation_in_december]\n",
    "precipitation_in_december_df = pd.DataFrame(precipitation_in_december_list, columns=['December Precipitation'])\n",
    "print(precipitation_in_december_df.describe())\n",
    "print(precipitation_in_june_df.describe())"
   ]
  },
  {
   "cell_type": "code",
   "execution_count": 36,
   "metadata": {},
   "outputs": [
    {
     "name": "stdout",
     "output_type": "stream",
     "text": [
      "       Station  June Precipitation\n",
      "3  USC00516128            0.495748\n",
      "6  USC00519281            0.151525\n",
      "1  USC00513117            0.118248\n",
      "2  USC00514830            0.114192\n",
      "5  USC00518838            0.094615\n",
      "4  USC00517948            0.057975\n",
      "8  USC00519523            0.050044\n",
      "7  USC00519397            0.022661\n",
      "0  USC00511918            0.015157\n",
      "       Station  December Precipitation\n",
      "5  USC00518838                0.638182\n",
      "3  USC00516128                0.507005\n",
      "6  USC00519281                0.244931\n",
      "1  USC00513117                0.203241\n",
      "8  USC00519523                0.162010\n",
      "2  USC00514830                0.154966\n",
      "4  USC00517948                0.152727\n",
      "0  USC00511918                0.138146\n",
      "7  USC00519397                0.075314\n"
     ]
    }
   ],
   "source": [
    "station_names = session.query(Measurement.station).distinct().all()\n",
    "station_precipitation_june = session.query(Measurement.station, func.avg(Measurement.prcp)).filter(extract('month', Measurement.date) == 6).group_by(Measurement.station).all()\n",
    "station_precipitation_june_df = pd.DataFrame(station_precipitation_june, columns=['Station', 'June Precipitation'])\n",
    "station_precipitation_december = session.query(Measurement.station, func.avg(Measurement.prcp)).filter(extract('month', Measurement.date) == 12).group_by(Measurement.station).all()\n",
    "station_precipitation_december_df = pd.DataFrame(station_precipitation_december, columns=['Station', 'December Precipitation'])\n",
    "print(station_precipitation_june_df.sort_values(by=['June Precipitation'], ascending=False))\n",
    "print(station_precipitation_december_df.sort_values(by=['December Precipitation'], ascending=False))\n",
    "\n",
    "\n"
   ]
  },
  {
   "cell_type": "code",
   "execution_count": null,
   "metadata": {},
   "outputs": [],
   "source": []
  }
 ],
 "metadata": {
  "kernelspec": {
   "display_name": "PythonData",
   "language": "python",
   "name": "pythondata"
  },
  "language_info": {
   "codemirror_mode": {
    "name": "ipython",
    "version": 3
   },
   "file_extension": ".py",
   "mimetype": "text/x-python",
   "name": "python",
   "nbconvert_exporter": "python",
   "pygments_lexer": "ipython3",
   "version": "3.7.13"
  }
 },
 "nbformat": 4,
 "nbformat_minor": 2
}
